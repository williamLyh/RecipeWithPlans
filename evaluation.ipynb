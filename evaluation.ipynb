{
 "cells": [
  {
   "cell_type": "code",
   "execution_count": 3,
   "metadata": {},
   "outputs": [],
   "source": [
    "import json\n",
    "import spacy\n",
    "import re\n",
    "import torch\n",
    "import numpy as np\n",
    "from tqdm import tqdm\n",
    "from collections import Counter\n",
    "from evaluation_utils import evaluate_fluency, compute_stage_matching, calculate_ingredient_coverage_and_hallucination\n",
    "from evaluation_utils import RecipeInferenceDataset, extract_instruction\n",
    "from dataclass import load_tokenizer\n",
    "from generator import RecipeGenerator\n",
    "from transformers import BartForConditionalGeneration, BartTokenizer\n",
    "\n",
    "# from transformers import GPT2LMHeadModel, GPT2Tokenizer"
   ]
  },
  {
   "attachments": {},
   "cell_type": "markdown",
   "metadata": {},
   "source": [
    "# Load data and model"
   ]
  },
  {
   "cell_type": "code",
   "execution_count": 7,
   "metadata": {},
   "outputs": [
    {
     "data": {
      "text/plain": [
       "(121084, 121084)"
      ]
     },
     "execution_count": 7,
     "metadata": {},
     "output_type": "execute_result"
    }
   ],
   "source": [
    "planner_result_path='/mnt/nas_home/yl535/RecipeWithPlans/model-checkpoint/planner_results/'\n",
    "with open(planner_result_path+'planner_prediction_test.json') as f:\n",
    "    test_predicted_plan = json.load(f)['planner_prediction']\n",
    "\n",
    "test_data_path='/mnt/nas_home/yl535/datasets/recipe1m+/preprocessed_data/test_dataset.json'\n",
    "with open(test_data_path) as f:\n",
    "    test_data = json.load(f)\n",
    "test_data, test_plan = test_data['text'], test_data['stage_label']\n",
    "\n",
    "len(test_predicted_plan), len(test_data)"
   ]
  },
  {
   "cell_type": "code",
   "execution_count": 26,
   "metadata": {},
   "outputs": [],
   "source": [
    "from collections import Counter\n",
    "bigram_counter = []\n",
    "bigrams = []\n",
    "plan_bigrams = [plan_to_bigram(plan) for plan in test_plan]\n",
    "\n",
    "for bi in plan_bigrams:\n",
    "    bigrams += bi"
   ]
  },
  {
   "cell_type": "code",
   "execution_count": 31,
   "metadata": {},
   "outputs": [
    {
     "name": "stdout",
     "output_type": "stream",
     "text": [
      "Counter({(2, 2): 46763, (1, 1): 40751, (4, 4): 38740, (2, 4): 37730, (1, 2): 35604, (1, 4): 35505, (2, 1): 33449, (4, 2): 31593, (4, 5): 29284, (4, 1): 28776, (5, 4): 25747, (1, 0): 22475, (1, 5): 22473, (2, 5): 20615, (3, 4): 20288, (0, 4): 19185, (4, 0): 19054, (0, 1): 19049, (5, 1): 18062, (0, 2): 17973, (4, 6): 17514, (1, 3): 17373, (5, 5): 16922, (2, 0): 16821, (0, 0): 16371, (2, 3): 14589, (0, 5): 13635, (5, 0): 13136, (3, 1): 12050, (3, 5): 12002, (4, 3): 11953, (5, 2): 11925, (3, 2): 11666, (5, 6): 9693, (1, 6): 8977, (3, 0): 8901, (0, 3): 8656, (2, 6): 8018, (5, 3): 7993, (0, 6): 6973, (3, 3): 6793, (6, 0): 5593, (6, 6): 4324, (6, 1): 3973, (6, 4): 3893, (6, 5): 3872, (3, 6): 3532, (6, 2): 2750, (6, 3): 1691})\n"
     ]
    },
    {
     "data": {
      "text/plain": [
       "[((2, 2), 46763),\n",
       " ((1, 1), 40751),\n",
       " ((4, 4), 38740),\n",
       " ((2, 4), 37730),\n",
       " ((1, 2), 35604),\n",
       " ((1, 4), 35505),\n",
       " ((2, 1), 33449),\n",
       " ((4, 2), 31593),\n",
       " ((4, 5), 29284),\n",
       " ((4, 1), 28776),\n",
       " ((5, 4), 25747),\n",
       " ((1, 0), 22475),\n",
       " ((1, 5), 22473),\n",
       " ((2, 5), 20615),\n",
       " ((3, 4), 20288),\n",
       " ((0, 4), 19185),\n",
       " ((4, 0), 19054),\n",
       " ((0, 1), 19049),\n",
       " ((5, 1), 18062),\n",
       " ((0, 2), 17973),\n",
       " ((4, 6), 17514),\n",
       " ((1, 3), 17373),\n",
       " ((5, 5), 16922),\n",
       " ((2, 0), 16821),\n",
       " ((0, 0), 16371),\n",
       " ((2, 3), 14589),\n",
       " ((0, 5), 13635),\n",
       " ((5, 0), 13136),\n",
       " ((3, 1), 12050),\n",
       " ((3, 5), 12002),\n",
       " ((4, 3), 11953),\n",
       " ((5, 2), 11925),\n",
       " ((3, 2), 11666),\n",
       " ((5, 6), 9693),\n",
       " ((1, 6), 8977),\n",
       " ((3, 0), 8901),\n",
       " ((0, 3), 8656),\n",
       " ((2, 6), 8018),\n",
       " ((5, 3), 7993),\n",
       " ((0, 6), 6973),\n",
       " ((3, 3), 6793),\n",
       " ((6, 0), 5593),\n",
       " ((6, 6), 4324),\n",
       " ((6, 1), 3973),\n",
       " ((6, 4), 3893),\n",
       " ((6, 5), 3872),\n",
       " ((3, 6), 3532),\n",
       " ((6, 2), 2750),\n",
       " ((6, 3), 1691)]"
      ]
     },
     "execution_count": 31,
     "metadata": {},
     "output_type": "execute_result"
    }
   ],
   "source": [
    "bigram_cnter = Counter(bigrams)\n",
    "print(bigram_cnter)\n",
    "bigram_cnter.most_common()\n"
   ]
  },
  {
   "cell_type": "code",
   "execution_count": 3,
   "metadata": {},
   "outputs": [
    {
     "ename": "OSError",
     "evalue": "Can't load tokenizer for '/mnt/nas_home/yl535/RecipeWithPlans/model-checkpoint/generator_results/checkpoint-180000'. Make sure that:\n\n- '/mnt/nas_home/yl535/RecipeWithPlans/model-checkpoint/generator_results/checkpoint-180000' is a correct model identifier listed on 'https://huggingface.co/models'\n  (make sure '/mnt/nas_home/yl535/RecipeWithPlans/model-checkpoint/generator_results/checkpoint-180000' is not a path to a local directory with something else, in that case)\n\n- or '/mnt/nas_home/yl535/RecipeWithPlans/model-checkpoint/generator_results/checkpoint-180000' is the correct path to a directory containing relevant tokenizer files\n\n",
     "output_type": "error",
     "traceback": [
      "\u001b[0;31m---------------------------------------------------------------------------\u001b[0m",
      "\u001b[0;31mOSError\u001b[0m                                   Traceback (most recent call last)",
      "\u001b[0;32m/tmp/ipykernel_2214011/1701746316.py\u001b[0m in \u001b[0;36m<module>\u001b[0;34m\u001b[0m\n\u001b[1;32m      7\u001b[0m \u001b[0;34m\u001b[0m\u001b[0m\n\u001b[1;32m      8\u001b[0m \u001b[0;31m# Load tokenizer\u001b[0m\u001b[0;34m\u001b[0m\u001b[0;34m\u001b[0m\u001b[0m\n\u001b[0;32m----> 9\u001b[0;31m \u001b[0mtokenizer\u001b[0m \u001b[0;34m=\u001b[0m \u001b[0mload_tokenizer\u001b[0m\u001b[0;34m(\u001b[0m\u001b[0mgenerator_path\u001b[0m\u001b[0;34m)\u001b[0m\u001b[0;34m\u001b[0m\u001b[0;34m\u001b[0m\u001b[0m\n\u001b[0m\u001b[1;32m     10\u001b[0m \u001b[0;34m\u001b[0m\u001b[0m\n\u001b[1;32m     11\u001b[0m \u001b[0;31m# # Load planner\u001b[0m\u001b[0;34m\u001b[0m\u001b[0;34m\u001b[0m\u001b[0m\n",
      "\u001b[0;32m~/RecipeWithPlans/dataclass.py\u001b[0m in \u001b[0;36mload_tokenizer\u001b[0;34m(tokenizer_name, stage_specified)\u001b[0m\n\u001b[1;32m     23\u001b[0m         \u001b[0mtokenizer\u001b[0m\u001b[0;34m.\u001b[0m\u001b[0mpad_token\u001b[0m \u001b[0;34m=\u001b[0m \u001b[0mtokenizer\u001b[0m\u001b[0;34m.\u001b[0m\u001b[0meos_token\u001b[0m\u001b[0;34m\u001b[0m\u001b[0;34m\u001b[0m\u001b[0m\n\u001b[1;32m     24\u001b[0m     \u001b[0;32melse\u001b[0m\u001b[0;34m:\u001b[0m\u001b[0;34m\u001b[0m\u001b[0;34m\u001b[0m\u001b[0m\n\u001b[0;32m---> 25\u001b[0;31m         \u001b[0mtokenizer\u001b[0m \u001b[0;34m=\u001b[0m \u001b[0mGPT2Tokenizer\u001b[0m\u001b[0;34m.\u001b[0m\u001b[0mfrom_pretrained\u001b[0m\u001b[0;34m(\u001b[0m\u001b[0mtokenizer_name\u001b[0m\u001b[0;34m)\u001b[0m\u001b[0;34m\u001b[0m\u001b[0;34m\u001b[0m\u001b[0m\n\u001b[0m\u001b[1;32m     26\u001b[0m \u001b[0;34m\u001b[0m\u001b[0m\n\u001b[1;32m     27\u001b[0m     \u001b[0;32mreturn\u001b[0m \u001b[0mtokenizer\u001b[0m\u001b[0;34m\u001b[0m\u001b[0;34m\u001b[0m\u001b[0m\n",
      "\u001b[0;32m~/anaconda3/lib/python3.9/site-packages/transformers/tokenization_utils_base.py\u001b[0m in \u001b[0;36mfrom_pretrained\u001b[0;34m(cls, pretrained_model_name_or_path, *init_inputs, **kwargs)\u001b[0m\n\u001b[1;32m   1734\u001b[0m                 \u001b[0mmsg\u001b[0m \u001b[0;34m+=\u001b[0m \u001b[0;34mf\"- or '{revision}' is a valid git identifier (branch name, a tag name, or a commit id) that exists for this model name as listed on its model page on 'https://huggingface.co/models'\\n\\n\"\u001b[0m\u001b[0;34m\u001b[0m\u001b[0;34m\u001b[0m\u001b[0m\n\u001b[1;32m   1735\u001b[0m \u001b[0;34m\u001b[0m\u001b[0m\n\u001b[0;32m-> 1736\u001b[0;31m             \u001b[0;32mraise\u001b[0m \u001b[0mEnvironmentError\u001b[0m\u001b[0;34m(\u001b[0m\u001b[0mmsg\u001b[0m\u001b[0;34m)\u001b[0m\u001b[0;34m\u001b[0m\u001b[0;34m\u001b[0m\u001b[0m\n\u001b[0m\u001b[1;32m   1737\u001b[0m \u001b[0;34m\u001b[0m\u001b[0m\n\u001b[1;32m   1738\u001b[0m         \u001b[0;32mfor\u001b[0m \u001b[0mfile_id\u001b[0m\u001b[0;34m,\u001b[0m \u001b[0mfile_path\u001b[0m \u001b[0;32min\u001b[0m \u001b[0mvocab_files\u001b[0m\u001b[0;34m.\u001b[0m\u001b[0mitems\u001b[0m\u001b[0;34m(\u001b[0m\u001b[0;34m)\u001b[0m\u001b[0;34m:\u001b[0m\u001b[0;34m\u001b[0m\u001b[0;34m\u001b[0m\u001b[0m\n",
      "\u001b[0;31mOSError\u001b[0m: Can't load tokenizer for '/mnt/nas_home/yl535/RecipeWithPlans/model-checkpoint/generator_results/checkpoint-180000'. Make sure that:\n\n- '/mnt/nas_home/yl535/RecipeWithPlans/model-checkpoint/generator_results/checkpoint-180000' is a correct model identifier listed on 'https://huggingface.co/models'\n  (make sure '/mnt/nas_home/yl535/RecipeWithPlans/model-checkpoint/generator_results/checkpoint-180000' is not a path to a local directory with something else, in that case)\n\n- or '/mnt/nas_home/yl535/RecipeWithPlans/model-checkpoint/generator_results/checkpoint-180000' is the correct path to a directory containing relevant tokenizer files\n\n"
     ]
    }
   ],
   "source": [
    "generator_path = '/mnt/nas_home/yl535/RecipeWithPlans/model-checkpoint/generator_results/checkpoint-150000'\n",
    "classifier_path = '/mnt/nas_home/yl535/RecipeWithPlans/model-checkpoint/classifier_results/checkpoint-45000'\n",
    "planner_path = '/mnt/nas_home/yl535/RecipeWithPlans/model-checkpoint/planner_results/checkpoint-8000'\n",
    "\n",
    "# Load device\n",
    "device = torch.device('cuda')\n",
    "\n",
    "# Load tokenizer \n",
    "tokenizer = load_tokenizer(generator_path)\n",
    "\n",
    "# # Load planner\n",
    "# planner_model = BartForConditionalGeneration.from_pretrained(planner_path)\n",
    "# bart_tok = BartTokenizer.from_pretrained(planner_path)\n",
    "\n",
    "# Load generator\n",
    "generator_model = RecipeGenerator(generator_path, \n",
    "                                tokenizer=tokenizer, \n",
    "                                device=device, \n",
    "                                classifier_path=classifier_path\n",
    "                                )"
   ]
  },
  {
   "attachments": {},
   "cell_type": "markdown",
   "metadata": {},
   "source": [
    "# Evaluate classifier and planner"
   ]
  },
  {
   "cell_type": "code",
   "execution_count": 22,
   "metadata": {},
   "outputs": [],
   "source": [
    "def exact_match(predict_seq, reference_seq):\n",
    "    match_cnt = 0\n",
    "    total_cnt = 0\n",
    "    for predicted_plan, reference_plan in zip(predict_seq, reference_seq):\n",
    "        for p1, p2 in zip(predicted_plan, reference_plan):\n",
    "            if p1 and p2 and p1==p2:\n",
    "                match_cnt += 1\n",
    "\n",
    "        total_cnt += len(predicted_plan)\n",
    "    return match_cnt/total_cnt\n",
    "\n",
    "def plan_to_unigram(plan):\n",
    "    return [(stage) for stage in plan]\n",
    "    \n",
    "def plan_to_bigram(plan):\n",
    "    result = []\n",
    "    for i in range(len(plan)-1):\n",
    "        result.append(tuple(plan[i:i+2]))\n",
    "    return result\n",
    "\n",
    "def plan_to_trigram(plan):\n",
    "    result = []\n",
    "    for i in range(len(plan)-2):\n",
    "        result.append(tuple(plan[i:i+3]))\n",
    "    return result\n",
    "\n",
    "\n",
    "def n_gram_match_rate(predict_seq, reference_seq, ngram=1):\n",
    "    if ngram==1:\n",
    "        reference_ngram = [plan_to_unigram(plan) for plan in reference_seq]\n",
    "        prediction_ngram = [plan_to_unigram(plan) for plan in predict_seq]\n",
    "\n",
    "    elif ngram==2:\n",
    "        reference_ngram = [plan_to_bigram(plan) for plan in reference_seq]\n",
    "        prediction_ngram = [plan_to_bigram(plan) for plan in predict_seq]\n",
    "\n",
    "    elif ngram==3:\n",
    "        reference_ngram = [plan_to_trigram(plan) for plan in reference_seq]\n",
    "        prediction_ngram = [plan_to_trigram(plan) for plan in predict_seq]\n",
    "    else:\n",
    "        print('Wrong n-gram number. ')\n",
    "\n",
    "    average_match_rate = []\n",
    "    for ngram1, ngram2 in zip(reference_ngram, prediction_ngram):\n",
    "        ngram1_cnt = Counter(ngram1)\n",
    "        ngram2_cnt = Counter(ngram2)\n",
    "        match_cnt = 0\n",
    "        for ngram in ngram2_cnt.keys():\n",
    "            if ngram in ngram1_cnt:\n",
    "                # print(bigram1_cnt[bigram],bigram2_cnt[bigram])\n",
    "                # print(min(bigram1_cnt[bigram], bigram2_cnt[bigram]))\n",
    "                match_cnt += min(ngram1_cnt[ngram], ngram2_cnt[ngram])\n",
    "        if sum(ngram2_cnt.values()) != 0:\n",
    "            match_rate = match_cnt / sum(ngram2_cnt.values())\n",
    "            average_match_rate.append(match_rate)\n",
    "    print('Unigram match rates', np.mean(average_match_rate))\n",
    "\n",
    "\n"
   ]
  },
  {
   "cell_type": "code",
   "execution_count": 8,
   "metadata": {},
   "outputs": [
    {
     "name": "stdout",
     "output_type": "stream",
     "text": [
      "Unigram match rates 0.676046819285604\n",
      "None\n",
      "Unigram match rates 0.3312019771473539\n",
      "None\n",
      "Unigram match rates 0.1311368567142325\n",
      "None\n"
     ]
    }
   ],
   "source": [
    "print(n_gram_match_rate(test_predicted_plan, test_plan, ngram=1))\n",
    "print(n_gram_match_rate(test_predicted_plan, test_plan, ngram=2))\n",
    "print(n_gram_match_rate(test_predicted_plan, test_plan, ngram=3))\n"
   ]
  },
  {
   "cell_type": "code",
   "execution_count": 44,
   "metadata": {},
   "outputs": [
    {
     "name": "stderr",
     "output_type": "stream",
     "text": [
      "100%|██████████| 121084/121084 [10:41<00:00, 188.86it/s]"
     ]
    },
    {
     "name": "stdout",
     "output_type": "stream",
     "text": [
      "Accuracy of the classifier on the test data: 0.9570099670526061\n"
     ]
    },
    {
     "name": "stderr",
     "output_type": "stream",
     "text": [
      "\n"
     ]
    }
   ],
   "source": [
    "from generator import StageClassifierModule\n",
    "\n",
    "stage_classifier = StageClassifierModule(classifier_path, device)\n",
    "\n",
    "correct_cnt = 0\n",
    "total_cnt = 0\n",
    "pbar = tqdm(total=len(test_plan))\n",
    "for text, reference_stages in zip(test_data, test_plan):\n",
    "    pbar.update(1)\n",
    "    _, text_list = extract_instruction(text, return_list=True)\n",
    "    if text_list!=[]:\n",
    "        predicted_stage = stage_classifier.compute_bert_stage_scores(text_list)\n",
    "        predicted_stage = torch.argmax(predicted_stage, dim=1)\n",
    "        for a, b in zip(predicted_stage, reference_stages):\n",
    "            if a==b:\n",
    "                correct_cnt+=1\n",
    "        total_cnt += len(reference_stages)\n",
    "pbar.close()\n",
    "\n",
    "accuracy = correct_cnt/total_cnt\n",
    "print('Accuracy of the classifier on the test data: {}'.format(accuracy))\n",
    "    \n"
   ]
  },
  {
   "attachments": {},
   "cell_type": "markdown",
   "metadata": {},
   "source": [
    "# Evaluate recipe"
   ]
  },
  {
   "cell_type": "code",
   "execution_count": 4,
   "metadata": {},
   "outputs": [],
   "source": [
    "\n",
    "test_dataset = RecipeInferenceDataset(\n",
    "                    {'text': test_data, \n",
    "                    'stage_label': test_predicted_plan\n",
    "                    }, \n",
    "                    tokenizer,\n",
    "                    max_length=512,\n",
    "                    use_special_token=True,\n",
    "                    with_stage_label=False\n",
    "                    )\n"
   ]
  },
  {
   "cell_type": "code",
   "execution_count": 5,
   "metadata": {},
   "outputs": [
    {
     "name": "stderr",
     "output_type": "stream",
     "text": [
      "100%|██████████| 200/200 [04:54<00:00,  1.47s/it]\n"
     ]
    }
   ],
   "source": [
    "a, b = 0, 0.35\n",
    "evaluate_size = 200\n",
    "input_text = []\n",
    "generation_doc, generation_doc_list = [], []\n",
    "reference_doc, reference_stage_label = [], []\n",
    "for i in tqdm(range(evaluate_size)):\n",
    "    datapoint = test_dataset[i]\n",
    "    input_text.append(tokenizer.decode(test_dataset[i]['input_ids'][0]))\n",
    "    stage_plan = datapoint['stage_label']\n",
    "    outputs = generator_model.structure_search(\n",
    "                    datapoint['input_ids'].to(device),\n",
    "                    beam_width=5,\n",
    "                    alpha=a,\n",
    "                    beta=b,\n",
    "                    stage_plan=stage_plan,\n",
    "                    max_length=512,\n",
    "                    )\n",
    "    generation = tokenizer.decode(outputs, skip_special_tokens=False )\n",
    "    generated_text, generated_text_list = extract_instruction(generation, return_list=True)\n",
    "    generation_doc.append(generated_text)\n",
    "    generation_doc_list.append(generated_text_list)\n",
    "    reference_doc.append(datapoint['reference_text'])\n",
    "    reference_stage_label.append(stage_plan)\n",
    "    "
   ]
  },
  {
   "cell_type": "code",
   "execution_count": 6,
   "metadata": {},
   "outputs": [
    {
     "name": "stdout",
     "output_type": "stream",
     "text": [
      "BLEU = 13.65 55.5/23.5/11.8/6.8 (BP = 0.759 ratio = 0.784 hyp_len = 16668 ref_len = 21258)\n",
      "Rouge-L Score: 0.3909915645829786\n",
      "None\n"
     ]
    }
   ],
   "source": [
    "print(evaluate_fluency(generation_doc, reference_doc))"
   ]
  },
  {
   "cell_type": "code",
   "execution_count": 7,
   "metadata": {},
   "outputs": [
    {
     "name": "stderr",
     "output_type": "stream",
     "text": [
      "100%|██████████| 200/200 [00:02<00:00, 89.62it/s]"
     ]
    },
    {
     "name": "stdout",
     "output_type": "stream",
     "text": [
      "0.7570194943944943\n"
     ]
    },
    {
     "name": "stderr",
     "output_type": "stream",
     "text": [
      "\n"
     ]
    }
   ],
   "source": [
    "print(compute_stage_matching(generation_doc_list, reference_stage_label))"
   ]
  },
  {
   "cell_type": "code",
   "execution_count": 40,
   "metadata": {},
   "outputs": [
    {
     "name": "stderr",
     "output_type": "stream",
     "text": [
      "100%|██████████| 2000/2000 [58:52<00:00,  1.77s/it] \n"
     ]
    }
   ],
   "source": [
    "# Oracle version\n",
    "a, b = 0, 0.2\n",
    "evaluate_size = 2000\n",
    "generation_doc, generation_doc_list = [], []\n",
    "reference_doc, reference_stage_label = [], []\n",
    "for i in tqdm(range(evaluate_size)):\n",
    "    datapoint = test_dataset[i]\n",
    "    stage_plan = test_plan[i]\n",
    "    outputs = generator_model.structure_search(\n",
    "                    datapoint['input_ids'].to(device),\n",
    "                    beam_width=5,\n",
    "                    alpha=a,\n",
    "                    beta=b,\n",
    "                    stage_plan=stage_plan,\n",
    "                    max_length=512,\n",
    "                    )\n",
    "    generation = tokenizer.decode(outputs, skip_special_tokens=False )\n",
    "    generated_text, generated_text_list = extract_instruction(generation, return_list=True)\n",
    "    generation_doc.append(generated_text)\n",
    "    generation_doc_list.append(generated_text_list)\n",
    "    reference_doc.append(datapoint['reference_text'])\n",
    "    reference_stage_label.append(stage_plan)\n",
    "    "
   ]
  },
  {
   "cell_type": "code",
   "execution_count": 41,
   "metadata": {},
   "outputs": [
    {
     "name": "stdout",
     "output_type": "stream",
     "text": [
      "BLEU = 14.85 49.9/21.1/10.9/6.4 (BP = 0.902 ratio = 0.907 hyp_len = 183233 ref_len = 202049)\n",
      "Rouge-L Score: 0.3990109247049082\n",
      "None\n"
     ]
    },
    {
     "name": "stderr",
     "output_type": "stream",
     "text": [
      "100%|██████████| 2000/2000 [00:29<00:00, 67.62it/s]"
     ]
    },
    {
     "name": "stdout",
     "output_type": "stream",
     "text": [
      "0.5987462468087469\n"
     ]
    },
    {
     "name": "stderr",
     "output_type": "stream",
     "text": [
      "\n"
     ]
    }
   ],
   "source": [
    "print(evaluate_fluency(generation_doc, reference_doc))\n",
    "print(compute_stage_matching(generation_doc_list, reference_stage_label))"
   ]
  }
 ],
 "metadata": {
  "kernelspec": {
   "display_name": "base",
   "language": "python",
   "name": "python3"
  },
  "language_info": {
   "codemirror_mode": {
    "name": "ipython",
    "version": 3
   },
   "file_extension": ".py",
   "mimetype": "text/x-python",
   "name": "python",
   "nbconvert_exporter": "python",
   "pygments_lexer": "ipython3",
   "version": "3.9.7"
  },
  "orig_nbformat": 4,
  "vscode": {
   "interpreter": {
    "hash": "94bf036f233ca66eed1fe5df02afb88e01a97bc35ef3dbbf8403762ef672bfc0"
   }
  }
 },
 "nbformat": 4,
 "nbformat_minor": 2
}
